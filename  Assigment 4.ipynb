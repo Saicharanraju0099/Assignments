{
 "cells": [
  {
   "cell_type": "markdown",
   "id": "e58aa715",
   "metadata": {},
   "source": [
    "Assignment:4\n",
    "1. you have to create one supervisor node.\n",
    "2. create one router function\n",
    "3. create three more node\n",
    "3.1 llm call (llm node)\n",
    "3.2 RAG (rag node)\n",
    "3.3 web crawler(fetch the info in realtime from internet)\n",
    "4. created one more node after this for validation for generated output --> explore the validation part how to do that\n",
    "5. if validation going to be failed in that case again go to supervioser node and then supervisor node will again decide what needs to be call next\n",
    "6. once the validation will pass then only generate the final output"
   ]
  },
  {
   "cell_type": "code",
   "execution_count": 6,
   "id": "24af0b75",
   "metadata": {},
   "outputs": [
    {
     "name": "stdout",
     "output_type": "stream",
     "text": [
      "all ok\n"
     ]
    }
   ],
   "source": [
    "print(\"all ok\")"
   ]
  },
  {
   "cell_type": "markdown",
   "id": "23e7f66f",
   "metadata": {},
   "source": [
    "Configuring a model"
   ]
  },
  {
   "cell_type": "code",
   "execution_count": 7,
   "id": "3153128f",
   "metadata": {},
   "outputs": [],
   "source": [
    "from dotenv import load_dotenv\n",
    "import os\n",
    "load_dotenv()\n",
    "os.environ[\"GOOGLE_API_KEY\"] = os.getenv(\"GOOGLE_API_KEY\") "
   ]
  },
  {
   "cell_type": "code",
   "execution_count": 8,
   "id": "417bd945",
   "metadata": {},
   "outputs": [
    {
     "name": "stdout",
     "output_type": "stream",
     "text": [
      "Hi there! How can I help you today?\n"
     ]
    }
   ],
   "source": [
    "from langchain_google_genai import ChatGoogleGenerativeAI\n",
    "model=ChatGoogleGenerativeAI(model='gemini-1.5-flash')\n",
    "output=model.invoke(\"hi\")\n",
    "print(output.content)"
   ]
  },
  {
   "cell_type": "code",
   "execution_count": 9,
   "id": "edbd4f57",
   "metadata": {},
   "outputs": [
    {
     "data": {
      "text/plain": [
       "384"
      ]
     },
     "execution_count": 9,
     "metadata": {},
     "output_type": "execute_result"
    }
   ],
   "source": [
    "from langchain_huggingface import HuggingFaceEmbeddings\n",
    "embeddings = HuggingFaceEmbeddings(model_name=\"BAAI/bge-small-en\")\n",
    "len(embeddings.embed_query(\"hi\"))"
   ]
  },
  {
   "cell_type": "markdown",
   "id": "274b2967",
   "metadata": {},
   "source": [
    "Let us take data, embeded it and store in vector database"
   ]
  },
  {
   "cell_type": "code",
   "execution_count": 10,
   "id": "932087a1",
   "metadata": {},
   "outputs": [],
   "source": [
    "from langchain_community.document_loaders import  TextLoader, DirectoryLoader\n",
    "from langchain_community.vectorstores import Chroma\n",
    "from langchain.text_splitter import RecursiveCharacterTextSplitter"
   ]
  },
  {
   "cell_type": "code",
   "execution_count": 14,
   "id": "d4c9bbae",
   "metadata": {},
   "outputs": [],
   "source": [
    "loader=DirectoryLoader(\"/Users/saicharan/agenticai/Langgraph Assignments/DATA\",glob=\"./*.txt\",loader_cls=TextLoader)"
   ]
  },
  {
   "cell_type": "code",
   "execution_count": 15,
   "id": "c0ecebc0",
   "metadata": {},
   "outputs": [],
   "source": [
    "docs=loader.load()\n"
   ]
  },
  {
   "cell_type": "code",
   "execution_count": 16,
   "id": "7e0dd1f7",
   "metadata": {},
   "outputs": [
    {
     "data": {
      "text/plain": [
       "[Document(metadata={'source': '/Users/saicharan/agenticai/Langgraph Assignments/DATA/Parliament_of_India.txt'}, page_content='Parliament of India\\n\\nThe Parliament of India is the highest legislative body in the country, responsible for making laws, \\noverseeing the government, and representing \\nthe citizens of India. It consists of two houses — the Rajya Sabha (Council of States) and the \\nLok Sabha (House of the People) — along with the President of India, who plays a key role in the \\nlegislative process. The Rajya Sabha is a permanent body with members elected by the state legislatures,\\nwhile the Lok Sabha is composed of members directly elected by the public through general elections held every \\nfive years. The Parliament meets at the Sansad Bhavan in New Delhi and plays a vital role in shaping the nation’s policies, \\npassing the budget, and holding the executive accountable. As a cornerstone of Indian democracy, the Parliament ensures that the\\nvoices of the people are heard and the rule of law is maintained.\\n\\nThe Parliament of India is the supreme legislative body of the Republic of India. It is a bicameral legislature composed of the President of India and two houses: \\nthe Rajya Sabha (Council of States) and the Lok Sabha (House of the People).\\n\\n1. Rajya Sabha:\\n   - It is the upper house of Parliament.\\n   - Members are elected by the legislative assemblies of the States and Union territories using proportional representation.\\n   - It is a permanent body and is not subject to dissolution, although one-third of its members retire every two years.\\n   - The Vice President of India is the ex-officio Chairman of the Rajya Sabha.\\n\\n2. Lok Sabha:\\n   - It is the lower house of Parliament.\\n   - Members are directly elected by the people of India, based on universal adult suffrage.\\n   - It has a maximum strength of 552 members.\\n   - The Speaker is the presiding officer of the Lok Sabha.\\n   - The Lok Sabha is dissolved every five years or earlier by the President on the advice of the Prime Minister.\\n\\n3. Functions of Parliament:\\n   - Legislation: The Parliament enacts laws for the country.\\n   - Oversight: It scrutinizes the work of the Executive.\\n   - Financial Control: It controls public finances through the budget and financial bills.\\n   - Representation: It represents the interests of the citizens.\\n\\nThe Parliament meets at the Sansad Bhavan in New Delhi. It plays a crucial role in the governance of India, ensuring the representation of people and the accountability of the executive to the legislature.\\n')]"
      ]
     },
     "execution_count": 16,
     "metadata": {},
     "output_type": "execute_result"
    }
   ],
   "source": [
    "docs"
   ]
  },
  {
   "cell_type": "code",
   "execution_count": 18,
   "id": "db5f2690",
   "metadata": {},
   "outputs": [
    {
     "name": "stdout",
     "output_type": "stream",
     "text": [
      "Parliament of India\n",
      "\n",
      "The Parliament of India is the highest legislative body in the country, responsible for making laws, \n",
      "overseeing the government, and representing \n",
      "the citizens of India. It consists of two houses — the Rajya Sabha (Council of States) and the \n",
      "Lok Sabha (House of the People) — along with the President of India, who plays a key role in the \n",
      "legislative process. The Rajya Sabha is a permanent body with members elected by the state legislatures,\n",
      "while the Lok Sabha is composed of members directly elected by the public through general elections held every \n",
      "five years. The Parliament meets at the Sansad Bhavan in New Delhi and plays a vital role in shaping the nation’s policies, \n",
      "passing the budget, and holding the executive accountable. As a cornerstone of Indian democracy, the Parliament ensures that the\n",
      "voices of the people are heard and the rule of law is maintained.\n",
      "\n",
      "The Parliament of India is the supreme legislative body of the Republic of India. It is a bicameral legislature composed of the President of India and two houses: \n",
      "the Rajya Sabha (Council of States) and the Lok Sabha (House of the People).\n",
      "\n",
      "1. Rajya Sabha:\n",
      "   - It is the upper house of Parliament.\n",
      "   - Members are elected by the legislative assemblies of the States and Union territories using proportional representation.\n",
      "   - It is a permanent body and is not subject to dissolution, although one-third of its members retire every two years.\n",
      "   - The Vice President of India is the ex-officio Chairman of the Rajya Sabha.\n",
      "\n",
      "2. Lok Sabha:\n",
      "   - It is the lower house of Parliament.\n",
      "   - Members are directly elected by the people of India, based on universal adult suffrage.\n",
      "   - It has a maximum strength of 552 members.\n",
      "   - The Speaker is the presiding officer of the Lok Sabha.\n",
      "   - The Lok Sabha is dissolved every five years or earlier by the President on the advice of the Prime Minister.\n",
      "\n",
      "3. Functions of Parliament:\n",
      "   - Legislation: The Parliament enacts laws for the country.\n",
      "   - Oversight: It scrutinizes the work of the Executive.\n",
      "   - Financial Control: It controls public finances through the budget and financial bills.\n",
      "   - Representation: It represents the interests of the citizens.\n",
      "\n",
      "The Parliament meets at the Sansad Bhavan in New Delhi. It plays a crucial role in the governance of India, ensuring the representation of people and the accountability of the executive to the legislature.\n",
      "\n"
     ]
    }
   ],
   "source": [
    "print(docs[0].page_content)"
   ]
  },
  {
   "cell_type": "code",
   "execution_count": null,
   "id": "10d5f6c6",
   "metadata": {},
   "outputs": [],
   "source": []
  }
 ],
 "metadata": {
  "kernelspec": {
   "display_name": "agenticai",
   "language": "python",
   "name": "python3"
  },
  "language_info": {
   "codemirror_mode": {
    "name": "ipython",
    "version": 3
   },
   "file_extension": ".py",
   "mimetype": "text/x-python",
   "name": "python",
   "nbconvert_exporter": "python",
   "pygments_lexer": "ipython3",
   "version": "3.12.3"
  }
 },
 "nbformat": 4,
 "nbformat_minor": 5
}
