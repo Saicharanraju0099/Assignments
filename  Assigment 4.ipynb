{
 "cells": [
  {
   "cell_type": "markdown",
   "id": "e58aa715",
   "metadata": {},
   "source": [
    "Assignment:4\n",
    "1. you have to create one supervisor node.\n",
    "2. create one router function\n",
    "3. create three more node\n",
    "3.1 llm call (llm node)\n",
    "3.2 RAG (rag node)\n",
    "3.3 web crawler(fetch the info in realtime from internet)\n",
    "4. created one more node after this for validation for generated output --> explore the validation part how to do that\n",
    "5. if validation going to be failed in that case again go to supervioser node and then supervisor node will again decide what needs to be call next\n",
    "6. once the validation will pass then only generate the final output"
   ]
  },
  {
   "cell_type": "code",
   "execution_count": 1,
   "id": "24af0b75",
   "metadata": {},
   "outputs": [
    {
     "name": "stdout",
     "output_type": "stream",
     "text": [
      "all ok\n"
     ]
    }
   ],
   "source": [
    "print(\"all ok\")"
   ]
  },
  {
   "cell_type": "markdown",
   "id": "23e7f66f",
   "metadata": {},
   "source": [
    "Configuring a model"
   ]
  },
  {
   "cell_type": "code",
   "execution_count": 2,
   "id": "3153128f",
   "metadata": {},
   "outputs": [],
   "source": [
    "from dotenv import load_dotenv\n",
    "import os\n",
    "load_dotenv()\n",
    "os.environ[\"GOOGLE_API_KEY\"] = os.getenv(\"GOOGLE_API_KEY\") "
   ]
  },
  {
   "cell_type": "code",
   "execution_count": 3,
   "id": "417bd945",
   "metadata": {},
   "outputs": [
    {
     "name": "stdout",
     "output_type": "stream",
     "text": [
      "Hi there! How can I help you today?\n"
     ]
    }
   ],
   "source": [
    "from langchain_google_genai import ChatGoogleGenerativeAI\n",
    "model=ChatGoogleGenerativeAI(model='gemini-1.5-flash')\n",
    "output=model.invoke(\"hi\")\n",
    "print(output.content)"
   ]
  },
  {
   "cell_type": "code",
   "execution_count": 4,
   "id": "edbd4f57",
   "metadata": {},
   "outputs": [
    {
     "name": "stderr",
     "output_type": "stream",
     "text": [
      "/Users/saicharan/agenticai/.venv/lib/python3.12/site-packages/tqdm/auto.py:21: TqdmWarning: IProgress not found. Please update jupyter and ipywidgets. See https://ipywidgets.readthedocs.io/en/stable/user_install.html\n",
      "  from .autonotebook import tqdm as notebook_tqdm\n"
     ]
    },
    {
     "data": {
      "text/plain": [
       "384"
      ]
     },
     "execution_count": 4,
     "metadata": {},
     "output_type": "execute_result"
    }
   ],
   "source": [
    "from langchain_huggingface import HuggingFaceEmbeddings\n",
    "embeddings = HuggingFaceEmbeddings(model_name=\"BAAI/bge-small-en\")\n",
    "len(embeddings.embed_query(\"hi\"))"
   ]
  },
  {
   "cell_type": "markdown",
   "id": "274b2967",
   "metadata": {},
   "source": [
    "Let us take data, embeded it and store in vector database"
   ]
  },
  {
   "cell_type": "code",
   "execution_count": 5,
   "id": "932087a1",
   "metadata": {},
   "outputs": [],
   "source": [
    "from langchain_community.document_loaders import  TextLoader, DirectoryLoader\n",
    "from langchain_community.vectorstores import Chroma\n",
    "from langchain.text_splitter import RecursiveCharacterTextSplitter"
   ]
  },
  {
   "cell_type": "code",
   "execution_count": 6,
   "id": "d4c9bbae",
   "metadata": {},
   "outputs": [],
   "source": [
    "loader=DirectoryLoader(\"/Users/saicharan/agenticai/Langgraph Assignments/DATA\",glob=\"./*.txt\",loader_cls=TextLoader)"
   ]
  },
  {
   "cell_type": "code",
   "execution_count": 7,
   "id": "c0ecebc0",
   "metadata": {},
   "outputs": [],
   "source": [
    "docs=loader.load()\n"
   ]
  },
  {
   "cell_type": "code",
   "execution_count": 8,
   "id": "7e0dd1f7",
   "metadata": {},
   "outputs": [
    {
     "data": {
      "text/plain": [
       "[Document(metadata={'source': '/Users/saicharan/agenticai/Langgraph Assignments/DATA/Parliament_of_India.txt'}, page_content='Parliament of India\\n\\nThe Parliament of India is the highest legislative body in the country, responsible for making laws, \\noverseeing the government, and representing \\nthe citizens of India. It consists of two houses — the Rajya Sabha (Council of States) and the \\nLok Sabha (House of the People) — along with the President of India, who plays a key role in the \\nlegislative process. The Rajya Sabha is a permanent body with members elected by the state legislatures,\\nwhile the Lok Sabha is composed of members directly elected by the public through general elections held every \\nfive years. The Parliament meets at the Sansad Bhavan in New Delhi and plays a vital role in shaping the nation’s policies, \\npassing the budget, and holding the executive accountable. As a cornerstone of Indian democracy, the Parliament ensures that the\\nvoices of the people are heard and the rule of law is maintained.\\n\\nThe Parliament of India is the supreme legislative body of the Republic of India. It is a bicameral legislature composed of the President of India and two houses: \\nthe Rajya Sabha (Council of States) and the Lok Sabha (House of the People).\\n\\n1. Rajya Sabha:\\n   - It is the upper house of Parliament.\\n   - Members are elected by the legislative assemblies of the States and Union territories using proportional representation.\\n   - It is a permanent body and is not subject to dissolution, although one-third of its members retire every two years.\\n   - The Vice President of India is the ex-officio Chairman of the Rajya Sabha.\\n\\n2. Lok Sabha:\\n   - It is the lower house of Parliament.\\n   - Members are directly elected by the people of India, based on universal adult suffrage.\\n   - It has a maximum strength of 552 members.\\n   - The Speaker is the presiding officer of the Lok Sabha.\\n   - The Lok Sabha is dissolved every five years or earlier by the President on the advice of the Prime Minister.\\n\\n3. Functions of Parliament:\\n   - Legislation: The Parliament enacts laws for the country.\\n   - Oversight: It scrutinizes the work of the Executive.\\n   - Financial Control: It controls public finances through the budget and financial bills.\\n   - Representation: It represents the interests of the citizens.\\n\\nThe Parliament meets at the Sansad Bhavan in New Delhi. It plays a crucial role in the governance of India, ensuring the representation of people and the accountability of the executive to the legislature.\\n')]"
      ]
     },
     "execution_count": 8,
     "metadata": {},
     "output_type": "execute_result"
    }
   ],
   "source": [
    "docs"
   ]
  },
  {
   "cell_type": "code",
   "execution_count": 9,
   "id": "db5f2690",
   "metadata": {},
   "outputs": [
    {
     "name": "stdout",
     "output_type": "stream",
     "text": [
      "Parliament of India\n",
      "\n",
      "The Parliament of India is the highest legislative body in the country, responsible for making laws, \n",
      "overseeing the government, and representing \n",
      "the citizens of India. It consists of two houses — the Rajya Sabha (Council of States) and the \n",
      "Lok Sabha (House of the People) — along with the President of India, who plays a key role in the \n",
      "legislative process. The Rajya Sabha is a permanent body with members elected by the state legislatures,\n",
      "while the Lok Sabha is composed of members directly elected by the public through general elections held every \n",
      "five years. The Parliament meets at the Sansad Bhavan in New Delhi and plays a vital role in shaping the nation’s policies, \n",
      "passing the budget, and holding the executive accountable. As a cornerstone of Indian democracy, the Parliament ensures that the\n",
      "voices of the people are heard and the rule of law is maintained.\n",
      "\n",
      "The Parliament of India is the supreme legislative body of the Republic of India. It is a bicameral legislature composed of the President of India and two houses: \n",
      "the Rajya Sabha (Council of States) and the Lok Sabha (House of the People).\n",
      "\n",
      "1. Rajya Sabha:\n",
      "   - It is the upper house of Parliament.\n",
      "   - Members are elected by the legislative assemblies of the States and Union territories using proportional representation.\n",
      "   - It is a permanent body and is not subject to dissolution, although one-third of its members retire every two years.\n",
      "   - The Vice President of India is the ex-officio Chairman of the Rajya Sabha.\n",
      "\n",
      "2. Lok Sabha:\n",
      "   - It is the lower house of Parliament.\n",
      "   - Members are directly elected by the people of India, based on universal adult suffrage.\n",
      "   - It has a maximum strength of 552 members.\n",
      "   - The Speaker is the presiding officer of the Lok Sabha.\n",
      "   - The Lok Sabha is dissolved every five years or earlier by the President on the advice of the Prime Minister.\n",
      "\n",
      "3. Functions of Parliament:\n",
      "   - Legislation: The Parliament enacts laws for the country.\n",
      "   - Oversight: It scrutinizes the work of the Executive.\n",
      "   - Financial Control: It controls public finances through the budget and financial bills.\n",
      "   - Representation: It represents the interests of the citizens.\n",
      "\n",
      "The Parliament meets at the Sansad Bhavan in New Delhi. It plays a crucial role in the governance of India, ensuring the representation of people and the accountability of the executive to the legislature.\n",
      "\n"
     ]
    }
   ],
   "source": [
    "print(docs[0].page_content)"
   ]
  },
  {
   "cell_type": "markdown",
   "id": "98809f3d",
   "metadata": {},
   "source": [
    "CREATING AN AGENT"
   ]
  },
  {
   "cell_type": "markdown",
   "id": "b0addff1",
   "metadata": {},
   "source": [
    "IMPORITING ALL THE LIBRAIES AND PACKAGES"
   ]
  },
  {
   "cell_type": "code",
   "execution_count": 12,
   "id": "10d5f6c6",
   "metadata": {},
   "outputs": [],
   "source": [
    "import operator\n",
    "from typing import List\n",
    "from pydantic import BaseModel , Field\n",
    "from langchain.prompts import PromptTemplate\n",
    "from typing import TypedDict, Annotated, Sequence\n",
    "from langchain_core.messages import BaseMessage\n",
    "from langchain_core.output_parsers import StrOutputParser\n",
    "from langchain_core.prompts import ChatPromptTemplate, PromptTemplate\n",
    "from langchain_core.runnables import RunnablePassthrough\n",
    "from langchain_core.messages import HumanMessage, AIMessage\n",
    "from langgraph.graph import StateGraph,END, START\n",
    "from langchain.output_parsers import PydanticOutputParser\n",
    "from langchain.document_loaders import PyPDFLoader\n",
    "from langchain.text_splitter import RecursiveCharacterTextSplitter\n",
    "from langchain.embeddings import HuggingFaceEmbeddings\n",
    "from langchain.vectorstores import FAISS\n"
   ]
  },
  {
   "cell_type": "code",
   "execution_count": 13,
   "id": "48034606",
   "metadata": {},
   "outputs": [],
   "source": [
    "class TopicSelectionParser(BaseModel):\n",
    "    Topic:str=Field(description=\"selected topic\")\n",
    "    Reasoning:str=Field(description='Reasoning behind topic selection')\n"
   ]
  },
  {
   "cell_type": "code",
   "execution_count": 14,
   "id": "67908a33",
   "metadata": {},
   "outputs": [
    {
     "data": {
      "text/plain": [
       "'The output should be formatted as a JSON instance that conforms to the JSON schema below.\\n\\nAs an example, for the schema {\"properties\": {\"foo\": {\"title\": \"Foo\", \"description\": \"a list of strings\", \"type\": \"array\", \"items\": {\"type\": \"string\"}}}, \"required\": [\"foo\"]}\\nthe object {\"foo\": [\"bar\", \"baz\"]} is a well-formatted instance of the schema. The object {\"properties\": {\"foo\": [\"bar\", \"baz\"]}} is not well-formatted.\\n\\nHere is the output schema:\\n```\\n{\"properties\": {\"Topic\": {\"description\": \"selected topic\", \"title\": \"Topic\", \"type\": \"string\"}, \"Reasoning\": {\"description\": \"Reasoning behind topic selection\", \"title\": \"Reasoning\", \"type\": \"string\"}}, \"required\": [\"Topic\", \"Reasoning\"]}\\n```'"
      ]
     },
     "execution_count": 14,
     "metadata": {},
     "output_type": "execute_result"
    }
   ],
   "source": [
    "parser=PydanticOutputParser(pydantic_object=TopicSelectionParser)\n",
    "parser.get_format_instructions()"
   ]
  },
  {
   "cell_type": "markdown",
   "id": "c958b1f7",
   "metadata": {},
   "source": [
    "CREATING AN AGENTIC STATES"
   ]
  },
  {
   "cell_type": "code",
   "execution_count": 15,
   "id": "88884667",
   "metadata": {},
   "outputs": [],
   "source": [
    "class Agentstate(TypedDict):\n",
    "      messages: Annotated[Sequence[BaseMessage], operator.add]\n"
   ]
  },
  {
   "cell_type": "code",
   "execution_count": 21,
   "id": "0d3f52b2",
   "metadata": {},
   "outputs": [],
   "source": [
    "def function_1(state:Agentstate):\n",
    "    pass"
   ]
  },
  {
   "cell_type": "code",
   "execution_count": 19,
   "id": "b1f782ff",
   "metadata": {},
   "outputs": [],
   "source": [
    "def router(state:Agentstate):\n",
    "    print(\"-> ROUTER ->\")"
   ]
  },
  {
   "cell_type": "code",
   "execution_count": 20,
   "id": "7e4f5455",
   "metadata": {},
   "outputs": [],
   "source": [
    "def format_docs(docs):\n",
    "    return \"\\n\\n\".join(doc.page_content for doc in docs)"
   ]
  },
  {
   "cell_type": "code",
   "execution_count": 27,
   "id": "bedea29f",
   "metadata": {},
   "outputs": [],
   "source": [
    "# RAG function\n",
    "def function_2(state:Agentstate):\n",
    "    print(\"<-RAG CALL->\")"
   ]
  },
  {
   "cell_type": "code",
   "execution_count": 26,
   "id": "1ac152ce",
   "metadata": {},
   "outputs": [],
   "source": [
    "# LLM Function\n",
    "def function_3(state:Agentstate):\n",
    "    print(\"-> LLM Call ->\")"
   ]
  },
  {
   "cell_type": "code",
   "execution_count": 32,
   "id": "36ee1072",
   "metadata": {},
   "outputs": [],
   "source": [
    "from langchain_community.tools import DuckDuckGoSearchRun\n",
    "def search_fun(state:Agentstate):\n",
    "    pass"
   ]
  },
  {
   "cell_type": "code",
   "execution_count": 29,
   "id": "8082ca0a",
   "metadata": {},
   "outputs": [],
   "source": [
    "def function_4(state:Agentstate):\n",
    "    pass"
   ]
  },
  {
   "cell_type": "code",
   "execution_count": 30,
   "id": "cc29e32b",
   "metadata": {},
   "outputs": [],
   "source": [
    "def router_1(state:Agentstate):\n",
    "    print(\"-> ROUTER_1 ->\")"
   ]
  },
  {
   "cell_type": "code",
   "execution_count": 33,
   "id": "458b8f3c",
   "metadata": {},
   "outputs": [
    {
     "data": {
      "text/plain": [
       "<langgraph.graph.state.StateGraph at 0x17fe564e0>"
      ]
     },
     "execution_count": 33,
     "metadata": {},
     "output_type": "execute_result"
    }
   ],
   "source": [
    "workflow = StateGraph(Agentstate)\n",
    "workflow.add_node(\"Supervisor\",function_1)\n",
    "workflow.add_node(\"RAG\",function_2)\n",
    "workflow.add_node(\"LLM\",function_3)\n",
    "workflow.add_node(\"WEB\", search_fun)\n",
    "workflow.add_node(\"VALIDATION\",function_4)\n",
    "workflow.set_entry_point(\"Supervisor\")\n"
   ]
  },
  {
   "cell_type": "code",
   "execution_count": null,
   "id": "65d12d60",
   "metadata": {},
   "outputs": [],
   "source": [
    "workflow.add_conditional_edges(\n",
    "    \"Supervisor\",\n",
    "    router,\n",
    "       {\n",
    "        \"RAG Call\": \"RAG\",\n",
    "        \"LLM Call\": \"LLM\",\n",
    "        \"WEB Call\": \"WEB\",\n",
    "    }\n",
    ")"
   ]
  },
  {
   "cell_type": "code",
   "execution_count": 34,
   "id": "f825387f",
   "metadata": {},
   "outputs": [
    {
     "data": {
      "text/plain": [
       "<langgraph.graph.state.StateGraph at 0x17fe564e0>"
      ]
     },
     "execution_count": 34,
     "metadata": {},
     "output_type": "execute_result"
    }
   ],
   "source": [
    "workflow.add_edge(\"RAG\",\"VALIDATION\")\n",
    "workflow.add_edge(\"LLM\",\"VALIDATION\")\n",
    "workflow.add_edge(\"WEB\",\"VALIDATION\")"
   ]
  },
  {
   "cell_type": "code",
   "execution_count": 35,
   "id": "cf528111",
   "metadata": {},
   "outputs": [
    {
     "data": {
      "text/plain": [
       "<langgraph.graph.state.StateGraph at 0x17fe564e0>"
      ]
     },
     "execution_count": 35,
     "metadata": {},
     "output_type": "execute_result"
    }
   ],
   "source": [
    "workflow.add_conditional_edges(\n",
    "    \"VALIDATION\",\n",
    "    router_1,\n",
    "    {\n",
    "        \"yes\": END,\n",
    "        \"no\":\"Supervisor\"\n",
    "    }\n",
    "\n",
    ")"
   ]
  },
  {
   "cell_type": "code",
   "execution_count": 36,
   "id": "6eb9ba7f",
   "metadata": {},
   "outputs": [],
   "source": [
    "app=workflow.compile()"
   ]
  },
  {
   "cell_type": "code",
   "execution_count": 37,
   "id": "ddd153c2",
   "metadata": {},
   "outputs": [
    {
     "data": {
      "image/png": "[encoded data removed]",
      "text/plain": [
       "<IPython.core.display.Image object>"
      ]
     },
     "metadata": {},
     "output_type": "display_data"
    }
   ],
   "source": [
    "from IPython.display import Image, display\n",
    "display(Image(app.get_graph(xray=True).draw_mermaid_png()))"
   ]
  }
 ],
 "metadata": {
  "kernelspec": {
   "display_name": "agenticai",
   "language": "python",
   "name": "python3"
  },
  "language_info": {
   "codemirror_mode": {
    "name": "ipython",
    "version": 3
   },
   "file_extension": ".py",
   "mimetype": "text/x-python",
   "name": "python",
   "nbconvert_exporter": "python",
   "pygments_lexer": "ipython3",
   "version": "3.12.3"
  }
 },
 "nbformat": 4,
 "nbformat_minor": 5
}
